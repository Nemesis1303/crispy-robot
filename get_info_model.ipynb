{
 "cells": [
  {
   "cell_type": "code",
   "execution_count": 8,
   "id": "306fd04a-eb17-4566-9ee4-f0133369ca38",
   "metadata": {
    "tags": []
   },
   "outputs": [],
   "source": [
    "import pandas as pd\n",
    "import numpy\n",
    "import pathlib\n",
    "from scipy import sparse\n",
    "import numpy as np"
   ]
  },
  {
   "cell_type": "code",
   "execution_count": 18,
   "id": "97a1a580-bf79-4eb0-9dbf-d1b0b094d8f7",
   "metadata": {
    "tags": []
   },
   "outputs": [],
   "source": [
    "pd.set_option('display.max_colwidth', None)\n",
    "pd.set_option('display.max_columns', None)\n",
    "pd.set_option('display.width', None)"
   ]
  },
  {
   "cell_type": "code",
   "execution_count": 13,
   "id": "c1088e70-b712-495b-ab93-6d71a15877ef",
   "metadata": {
    "tags": []
   },
   "outputs": [],
   "source": [
    "model_path = pathlib.Path(\"/export/data_ml4ds/thuban/europarl_en_mallet\")"
   ]
  },
  {
   "cell_type": "code",
   "execution_count": 21,
   "id": "879605ea-c58f-4e91-a5de-fba655a06061",
   "metadata": {
    "tags": []
   },
   "outputs": [
    {
     "data": {
      "text/plain": [
       "['policy european economic social development energy area union europe employment objective strategy eu support important',\n",
       " 'human_right people government country democracy law freedom political respect democratic state case party rule year',\n",
       " 'country european union europe eu turkey state accession member_states region member candidate enlargement join border',\n",
       " 'market company service cost sector business consumer system transport increase price tax competition public industry',\n",
       " 'organization world_health people europe ultrasound work year day speak time live member country citizen life',\n",
       " 'information technology important time clear ultrasound good difficult commission thing question case issue matter point',\n",
       " 'committee report european behalf council mr parliament affairs proposal policy commission environment rapporteur item development',\n",
       " 'vote group report amendment european parliament support resolution table vote_favour member party democrats house adopt',\n",
       " 'peace international people situation conflict government war country military support force israel security state region',\n",
       " 'budget fund programme european commission year financial aid eur member_states support resource increase eu project',\n",
       " 'member_states european system rule law national state legal protection commission community legislation eu directive ensure',\n",
       " 'mr president report commissioner lady_gentleman commission rapporteur debate work point madam_president question office group council',\n",
       " 'council parliament commission european question issue debate meeting member time government hold discuss matter week',\n",
       " 'country agreement european union eu trade states united cooperation international relation world development develop human_right',\n",
       " 'european union parliament europe citizen policy institution political member_states role national eu common treaty commission',\n",
       " 'commission council work parliament hope agreement achieve ultrasound year process reach negotiation progress time result',\n",
       " 'commission proposal parliament council amendment report directive adopt propose european regulation accept point position decision',\n",
       " 'product food production consumer health animal water fishing market produce farmer safety environment industry risk',\n",
       " 'woman child work health people social education life worker programme family access young_people society employment',\n",
       " 'problem crisis europe economic country situation face world financial ultrasound social year time people economy']"
      ]
     },
     "execution_count": 21,
     "metadata": {},
     "output_type": "execute_result"
    }
   ],
   "source": [
    "def load_model_info(model_path):\n",
    "    \n",
    "    alphas = np.load(model_path / \"alphas.npy\")\n",
    "    thetas = sparse.load_npz(pathlib.Path(model_path) / \"thetas.npz\").toarray()\n",
    "    betas = np.load(model_path / \"betas.npy\")\n",
    "\n",
    "    vocab_w2id = {}\n",
    "    with (pathlib.Path(model_path)/'vocab.txt').open('r', encoding='utf8') as fin:\n",
    "        for i, line in enumerate(fin):\n",
    "            wd = line.strip()\n",
    "            vocab_w2id[wd] = i\n",
    "    \n",
    "    vocab_id2w = dict(zip(vocab_w2id.values(), vocab_w2id.keys()))\n",
    "    \n",
    "    with (pathlib.Path(model_path) / \"tpc_descriptions.txt\").open('r', encoding='utf8') as fin:\n",
    "        tpc_descriptions = [el.strip() for el in fin.readlines()]\n",
    "        \n",
    "    with (pathlib.Path(model_path) / \"tpc_labels.txt\").open('r', encoding='utf8') as fin:\n",
    "        tpc_labels = [el.strip() for el in fin.readlines()]\n",
    "    \n",
    "        \n",
    "    return alphas, thetas, betas, vocab_w2id, tpc_descriptions, tpc_labels\n",
    "\n",
    "alphas, thetas, betas, vocab_w2id, keys, tpc_labels = load_model_info(model_path)\n",
    "\n",
    "keys"
   ]
  },
  {
   "cell_type": "code",
   "execution_count": 27,
   "id": "b8232890-81df-446a-8970-118ffc35e9d3",
   "metadata": {
    "tags": []
   },
   "outputs": [],
   "source": [
    "alphas = [np.round(el*100,2) for el in alphas]"
   ]
  },
  {
   "cell_type": "code",
   "execution_count": 35,
   "id": "dc2cf27d-b311-4d08-8f5c-faee8eb9f405",
   "metadata": {
    "tags": []
   },
   "outputs": [],
   "source": [
    "df_model = pd.DataFrame(\n",
    "    {\n",
    "        \"id\": range(len(keys)),\n",
    "        \"alphas\": alphas,\n",
    "        \"tpc_labels\": tpc_labels,\n",
    "        \"tpc_desc\": keys\n",
    "    }\n",
    ")\n",
    "#df_model.sort_values(by=['alphas'],ascending=False)\n",
    "df_model.to_excel(\"model.xlsx\")"
   ]
  },
  {
   "cell_type": "code",
   "execution_count": null,
   "id": "aa4dbef5-2b50-47be-b52d-0d049e4b7c54",
   "metadata": {},
   "outputs": [],
   "source": [
    "df_model.to_excel(\"model.xlsx\")"
   ]
  }
 ],
 "metadata": {
  "kernelspec": {
   "display_name": "Python 3 (ipykernel)",
   "language": "python",
   "name": "python3"
  },
  "language_info": {
   "codemirror_mode": {
    "name": "ipython",
    "version": 3
   },
   "file_extension": ".py",
   "mimetype": "text/x-python",
   "name": "python",
   "nbconvert_exporter": "python",
   "pygments_lexer": "ipython3",
   "version": "3.10.11"
  }
 },
 "nbformat": 4,
 "nbformat_minor": 5
}
